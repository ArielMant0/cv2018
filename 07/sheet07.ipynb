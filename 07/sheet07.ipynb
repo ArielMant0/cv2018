{
 "cells": [
  {
   "cell_type": "markdown",
   "metadata": {
    "deletable": false,
    "editable": false,
    "nbgrader": {
     "checksum": "85f0d40ffbc41792a1c305f0e4702313",
     "grade": false,
     "grade_id": "cell-413d220a9dc47c46",
     "locked": true,
     "schema_version": 1,
     "solution": false
    }
   },
   "source": [
    "Osnabrück University - Computer Vision (Winter Term 2018/19) - Prof. Dr.-Ing. G. Heidemann, Ulf Krumnack, Axel Schaffland"
   ]
  },
  {
   "cell_type": "markdown",
   "metadata": {
    "deletable": false,
    "editable": false,
    "nbgrader": {
     "checksum": "7e8d4e5c4accad737783c00aaeaa8a10",
     "grade": false,
     "grade_id": "cell-fcc4a8f1ac6d5976",
     "locked": true,
     "schema_version": 1,
     "solution": false
    }
   },
   "source": [
    "# Exercise Sheet 07: Fourier Transform"
   ]
  },
  {
   "cell_type": "markdown",
   "metadata": {
    "deletable": false,
    "editable": false,
    "nbgrader": {
     "checksum": "626a4f95b49f7203943439d503062b19",
     "grade": false,
     "grade_id": "cell-983153e0faf373b1",
     "locked": true,
     "schema_version": 1,
     "solution": false
    }
   },
   "source": [
    "## Introduction\n",
    "\n",
    "This week's sheet should be solved and handed in before the end of **Sunday, January 6, 2019**. If you need help (and Google and other resources were not enough), feel free to contact your groups' designated tutor or whomever of us you run into first. Please upload your results to your group's Stud.IP folder."
   ]
  },
  {
   "cell_type": "markdown",
   "metadata": {
    "deletable": false,
    "editable": false,
    "nbgrader": {
     "checksum": "78164889d32093e26c30a571c0d9c87e",
     "grade": false,
     "grade_id": "cell-78e418c8c7c6b9cb",
     "locked": true,
     "schema_version": 1,
     "solution": false
    }
   },
   "source": [
    "## Assignment 0: Math recap (Expectation and Variance) [0 Points] \n",
    "\n",
    "This exercise is supposed to be very easy, does not give any points, and is voluntary. There will be a similar exercise on every sheet. It is intended to revise some basic mathematical notions that are assumed throughout this class and to allow you to check if you are comfortable with them. Usually you should have no problem to answer these questions offhand, but if you feel unsure, this is a good time to look them up again. You are always welcome to discuss questions with the tutors or in the practice session. Also, if you have a (math) topic you would like to recap, please let us know."
   ]
  },
  {
   "cell_type": "markdown",
   "metadata": {
    "deletable": false,
    "editable": false,
    "nbgrader": {
     "checksum": "4fe2ee3d60ed587adc96ebd40af13925",
     "grade": false,
     "grade_id": "math-stat-q1",
     "locked": true,
     "schema_version": 1,
     "solution": false
    }
   },
   "source": [
    "**a)** What is the relation between mean and expectated value? How to compute it?"
   ]
  },
  {
   "cell_type": "markdown",
   "metadata": {
    "collapsed": true,
    "deletable": false,
    "nbgrader": {
     "checksum": "85e2eb758bd23c7872dd657ee75b5ad2",
     "grade": true,
     "grade_id": "math-stat-a1",
     "locked": false,
     "points": 0,
     "schema_version": 1,
     "solution": true
    },
    "solution": true
   },
   "source": [
    "YOUR ANSWER HERE"
   ]
  },
  {
   "cell_type": "markdown",
   "metadata": {
    "deletable": false,
    "editable": false,
    "nbgrader": {
     "checksum": "0882e5af3f4d88eaf8bf2c5e29c2fc87",
     "grade": false,
     "grade_id": "math-stat-q2",
     "locked": true,
     "schema_version": 1,
     "solution": false
    }
   },
   "source": [
    "**b)** What is the variance? What does it express? Why is there a square in the formula?"
   ]
  },
  {
   "cell_type": "markdown",
   "metadata": {
    "collapsed": true,
    "deletable": false,
    "nbgrader": {
     "checksum": "1f1926a15a1b9127f872c4195b91edd4",
     "grade": true,
     "grade_id": "math-stat-a2",
     "locked": false,
     "points": 0,
     "schema_version": 1,
     "solution": true
    },
    "solution": true
   },
   "source": [
    "YOUR ANSWER HERE"
   ]
  },
  {
   "cell_type": "markdown",
   "metadata": {
    "deletable": false,
    "editable": false,
    "nbgrader": {
     "checksum": "8c8eaf05fddc7674d302e03621cc257d",
     "grade": false,
     "grade_id": "math-stat-q3",
     "locked": true,
     "schema_version": 1,
     "solution": false
    }
   },
   "source": [
    "**c)** Can you compute mean and variance of a given 1-dimensional dataset (e.g., $D=\\{9,10,11,7,13\\}$). Can you do the same for a 3-dimensional dataset (e.g., D=\\{(1,10,9), (1,10,10), (10,10,11), (19,10,7), (19,10,13)\\})?"
   ]
  },
  {
   "cell_type": "markdown",
   "metadata": {
    "collapsed": true,
    "deletable": false,
    "nbgrader": {
     "checksum": "7488170e99f8e8244ec1073f2160acb1",
     "grade": true,
     "grade_id": "math-stat-a3",
     "locked": false,
     "points": 0,
     "schema_version": 1,
     "solution": true
    },
    "solution": true
   },
   "source": [
    "YOUR ANSWER HERE"
   ]
  },
  {
   "cell_type": "code",
   "execution_count": null,
   "metadata": {
    "deletable": false,
    "nbgrader": {
     "checksum": "fd087e9a660dadec8e2d1583df18689c",
     "grade": true,
     "grade_id": "math-stat-i3",
     "locked": false,
     "points": 0,
     "schema_version": 1,
     "solution": true
    }
   },
   "outputs": [],
   "source": [
    "# YOUR CODE HERE"
   ]
  },
  {
   "cell_type": "markdown",
   "metadata": {
    "deletable": false,
    "editable": false,
    "nbgrader": {
     "checksum": "d44aafb8931530bda4e6ad938f31c045",
     "grade": false,
     "grade_id": "ft-understand-00",
     "locked": true,
     "schema_version": 1,
     "solution": false
    }
   },
   "source": [
    "## Exercise 1: Understanding Fourier Transform [7 points]\n",
    "\n",
    "This exercise aims at getting some intuition of finite, 2d-Fourier transform."
   ]
  },
  {
   "cell_type": "markdown",
   "metadata": {
    "deletable": false,
    "editable": false,
    "nbgrader": {
     "checksum": "d1cdc2fb8319d1b8d4d0915408d711b6",
     "grade": false,
     "grade_id": "ft-understand-01",
     "locked": true,
     "schema_version": 1,
     "solution": false
    }
   },
   "source": [
    "*Hint:* Python and numpy can deal with complex numbers: `np.real()` and `np.imag()` provide the real and imaginary parts. `np.abs()` and `np.angle()` provide amplitude and phase. `np.conj()` gives the complex conjugate."
   ]
  },
  {
   "cell_type": "markdown",
   "metadata": {
    "deletable": false,
    "editable": false,
    "nbgrader": {
     "checksum": "619caf397f6a5d2dd9a1d4ebadc70da7",
     "grade": false,
     "grade_id": "ft-understand-q1",
     "locked": true,
     "schema_version": 1,
     "solution": false
    }
   },
   "source": [
    "**a)** Transform the image `dolly.png` into the frequency space (you may use the function\n",
    "`numpy.fft.fft2`). The result will be a complex matrix. Plot histograms for the amplitude and phase\n",
    "values. You may take the logarithm of the amplitude to enhance contrast."
   ]
  },
  {
   "cell_type": "code",
   "execution_count": null,
   "metadata": {
    "deletable": false,
    "nbgrader": {
     "checksum": "b70679356380f43ae4f4a955c2a5571c",
     "grade": true,
     "grade_id": "ft-understand-a1",
     "locked": false,
     "points": 1,
     "schema_version": 1,
     "solution": true
    }
   },
   "outputs": [],
   "source": [
    "%matplotlib inline\n",
    "import numpy as np\n",
    "import matplotlib.pyplot as plt\n",
    "\n",
    "img = plt.imread('images/dolly.png')\n",
    "\n",
    "\n",
    "# YOUR CODE HERE\n",
    "plt.show()"
   ]
  },
  {
   "cell_type": "markdown",
   "metadata": {
    "deletable": false,
    "editable": false,
    "nbgrader": {
     "checksum": "73e109bc4df66731a67b8597d496443b",
     "grade": false,
     "grade_id": "ft-understand-q2",
     "locked": true,
     "schema_version": 1,
     "solution": false
    }
   },
   "source": [
    "**b)** Display the amplitude and phase in separate images. You may again take the logarithm of\n",
    "the amplitude to enhance the contrast. You may also center the base frequency (see function `numpy.fft.fftshift`). Compare your results with CV-09, slide 33."
   ]
  },
  {
   "cell_type": "code",
   "execution_count": null,
   "metadata": {
    "deletable": false,
    "nbgrader": {
     "checksum": "542150ec416d9663f84551ebfc6e8821",
     "grade": true,
     "grade_id": "ft-understand-a2",
     "locked": false,
     "points": 2,
     "schema_version": 1,
     "solution": true
    }
   },
   "outputs": [],
   "source": [
    "%matplotlib inline\n",
    "import numpy as np\n",
    "import matplotlib.pyplot as plt\n",
    "\n",
    "img = plt.imread('images/dolly.png')\n",
    "\n",
    "# YOUR CODE HERE"
   ]
  },
  {
   "cell_type": "markdown",
   "metadata": {
    "deletable": false,
    "editable": false,
    "nbgrader": {
     "checksum": "091057426fed8f92d84823bd6af6b740",
     "grade": false,
     "grade_id": "cell-85ec5f02796b3c64",
     "locked": true,
     "schema_version": 1,
     "solution": false
    }
   },
   "source": [
    "**c)** Transform the image back from the frequency space to the image space (again using `fft2`).\n",
    "What do you observe? Explain and repair the result."
   ]
  },
  {
   "cell_type": "code",
   "execution_count": null,
   "metadata": {
    "deletable": false,
    "nbgrader": {
     "checksum": "aed0b391aa80562e647d7cebb8280fd9",
     "grade": true,
     "grade_id": "cell-f90298e96bac4886",
     "locked": false,
     "points": 2,
     "schema_version": 1,
     "solution": true
    }
   },
   "outputs": [],
   "source": [
    "%matplotlib inline\n",
    "import numpy as np\n",
    "import matplotlib.pyplot as plt\n",
    "\n",
    "img = plt.imread('images/dolly.png')\n",
    "\n",
    "# YOUR CODE HERE\n",
    "\n",
    "plt.show()"
   ]
  },
  {
   "cell_type": "markdown",
   "metadata": {
    "deletable": false,
    "editable": false,
    "nbgrader": {
     "checksum": "b89bb9d2500a3f7abc3db3e1a01b3702",
     "grade": false,
     "grade_id": "cell-99951c601b6ce294",
     "locked": true,
     "schema_version": 1,
     "solution": false
    }
   },
   "source": [
    "**d)** Now restore the image, but only keep the amplitude and vary the phase. Try fixed phase\n",
    "values (0, $\\pi/2$,. . . ), a random phase matrix, or a noisy version of the original phase values."
   ]
  },
  {
   "cell_type": "code",
   "execution_count": null,
   "metadata": {
    "deletable": false,
    "nbgrader": {
     "checksum": "830c31946e7995bcf9d5889b5d527062",
     "grade": true,
     "grade_id": "cell-1fce27ce15d69d4f",
     "locked": false,
     "points": 1,
     "schema_version": 1,
     "solution": true
    }
   },
   "outputs": [],
   "source": [
    "%matplotlib inline\n",
    "import numpy as np\n",
    "import matplotlib.pyplot as plt\n",
    "\n",
    "img = plt.imread('images/dolly.png')\n",
    "\n",
    "# YOUR CODE HERE"
   ]
  },
  {
   "cell_type": "markdown",
   "metadata": {
    "deletable": false,
    "editable": false,
    "nbgrader": {
     "checksum": "b360e3b148f5d580e8385b9004c38aa1",
     "grade": false,
     "grade_id": "cell-200bf23f94b4f4e4",
     "locked": true,
     "schema_version": 1,
     "solution": false
    }
   },
   "source": [
    "**e)** We do the same, but now we keep the phase while varying the amplitude values, i.e. constant,\n",
    "amplitude, randomly distributed amplitudes and noisy versions of the the original values.\n",
    "\n",
    "Explain the results!\n"
   ]
  },
  {
   "cell_type": "code",
   "execution_count": null,
   "metadata": {
    "deletable": false,
    "editable": false,
    "nbgrader": {
     "checksum": "67fda4823eb0d072cffc0cf7ae628c4e",
     "grade": false,
     "grade_id": "cell-1ee06f93fcdda2e1",
     "locked": true,
     "schema_version": 1,
     "solution": false
    }
   },
   "outputs": [],
   "source": [
    "%matplotlib inline\n",
    "import numpy as np\n",
    "import matplotlib.pyplot as plt\n",
    "\n",
    "img = plt.imread('images/dolly.png')\n",
    "\n",
    "# Perform (fast) Fourier transform\n",
    "ft = np.fft.fft2(img)\n",
    "\n",
    "# Get amplitude and phase\n",
    "amplitude = np.abs(ft)\n",
    "phase = np.angle(ft)\n",
    "\n",
    "amplitudes = []\n",
    "amplitudes.append((amplitude, \"original amplitude\"))\n",
    "amplitudes.append((np.zeros(amplitude.shape), \"zero amplitude\"))\n",
    "amplitudes.append((np.ones(amplitude.shape)*amplitude.max(), \"constant amplitude\"))\n",
    "amplitudes.append((np.random.rand(*amplitude.shape), \"random amplitude\"))\n",
    "amplitudes.append((amplitude, \"original amplitude\"))\n",
    "\n",
    "plt.figure(figsize=(12, 16)); plt.gray()\n",
    "plt.subplot(3, 2, 1); plt.axis('off'); plt.imshow(img); plt.title('Original')\n",
    "\n",
    "for i, (amp, tit) in enumerate(amplitudes):\n",
    "    ft0 = amp * np.exp(1j * phase)\n",
    "    img0 = np.abs(np.fft.ifft2(ft0))\n",
    "    plt.subplot(3, 2, 2+i); plt.axis('off'); plt.title(tit)\n",
    "    plt.imshow(img0)\n",
    "\n",
    "plt.show()"
   ]
  },
  {
   "cell_type": "markdown",
   "metadata": {
    "deletable": false,
    "nbgrader": {
     "checksum": "c0d6e0221bbceea86a397ced65804898",
     "grade": true,
     "grade_id": "cell-acdb8260ee0db9b3",
     "locked": false,
     "points": 1,
     "schema_version": 1,
     "solution": true
    }
   },
   "source": [
    "YOUR ANSWER HERE"
   ]
  },
  {
   "cell_type": "markdown",
   "metadata": {
    "deletable": false,
    "editable": false,
    "nbgrader": {
     "checksum": "d550eacd8d32efe367637f9d8f478c56",
     "grade": false,
     "grade_id": "ft-impl",
     "locked": true,
     "schema_version": 1,
     "solution": false
    }
   },
   "source": [
    "## Exercise 2: Implementing Fourier Transform [6 points]"
   ]
  },
  {
   "cell_type": "markdown",
   "metadata": {
    "deletable": false,
    "editable": false,
    "nbgrader": {
     "checksum": "06ad5784d1afecd6e2c76fe21f29c9e4",
     "grade": false,
     "grade_id": "ft-impl-q1",
     "locked": true,
     "schema_version": 1,
     "solution": false
    }
   },
   "source": [
    "**a)** \n",
    "Explain in your own words the idea of Fourier transform. What is the frequency space? What does a point in that space represent?"
   ]
  },
  {
   "cell_type": "markdown",
   "metadata": {
    "collapsed": true,
    "deletable": false,
    "nbgrader": {
     "checksum": "190791c0ffc6d7a9208407e204eb370b",
     "grade": true,
     "grade_id": "ft-impl-a1",
     "locked": false,
     "points": 1,
     "schema_version": 1,
     "solution": true
    },
    "solution": true
   },
   "source": [
    "YOUR ANSWER HERE"
   ]
  },
  {
   "cell_type": "markdown",
   "metadata": {
    "deletable": false,
    "editable": false,
    "nbgrader": {
     "checksum": "f4f972b9200fb8c67449a8df7b81cdd8",
     "grade": false,
     "grade_id": "ft-impl-q2",
     "locked": true,
     "schema_version": 1,
     "solution": false
    }
   },
   "source": [
    "**b)** First implement a one-dimensional discrete version of Fourier transform, i.e. use the formula\n",
    "$$ c_n = \\sum_{x=0}^{L-1} f(x)\\cdot e^{-\\tfrac{2\\pi i\\cdot n}{L}\\cdot x} \\qquad \\text{for $n=0,\\ldots,L-1$}$$\n",
    "for complex valued coefficients.\n",
    "\n",
    "Plot the graph and the results of your Fourier transform, using the Matplotlib function `plot()`, for different functions. Compare your results with the output of the function `numpy.fft.fft`."
   ]
  },
  {
   "cell_type": "code",
   "execution_count": null,
   "metadata": {
    "deletable": false,
    "nbgrader": {
     "checksum": "23e9173442dac76d5214dccb2e4e2641",
     "grade": true,
     "grade_id": "cell-ft-impl-a2",
     "locked": false,
     "points": 2,
     "schema_version": 1,
     "solution": true
    }
   },
   "outputs": [],
   "source": [
    "%matplotlib inline\n",
    "import numpy as np\n",
    "from scipy import misc\n",
    "import matplotlib.pyplot as plt\n",
    "\n",
    "\n",
    "def fourier1d(func):\n",
    "    \"\"\"\n",
    "    Perform a discrete 1D Fourier transform.\n",
    "    \n",
    "    Args:\n",
    "        func (ndarray): 1-D array containing the function values.\n",
    "    \n",
    "    Returns:\n",
    "        ndarray (complex): The Fourier transformed function.\n",
    "    \"\"\"\n",
    "    ft = np.zeros(func.shape, dtype=np.complex)\n",
    "\n",
    "    # YOUR CODE HERE\n",
    "\n",
    "    return ft\n",
    "\n",
    "\n",
    "# number of points\n",
    "L = np.arange(100)\n",
    "\n",
    "\n",
    "def gaussian(x, mu, sig):\n",
    "    return np.exp(-np.power(x - mu, 2.) / (2 * np.power(sig, 2.)))\n",
    "\n",
    "\n",
    "func = np.sin(2 * np.pi * L / len(L))\n",
    "#func = np.zeros(L.shape)\n",
    "#func[40:60] = 1\n",
    "#func = gaussian(L, 0, 10)\n",
    "\n",
    "# Own implementation.\n",
    "ft = fourier1d(func)\n",
    "plt.figure(figsize=(12, 8))\n",
    "plt.suptitle('Own implementation');\n",
    "plt.subplot(1, 3, 1); plt.plot(L, func); plt.title('Function')\n",
    "plt.subplot(1, 3, 2); plt.plot(L, np.abs(ft)); plt.title('FT (Amplitude)')\n",
    "plt.subplot(1, 3, 3); plt.plot(L, np.angle(ft)); plt.title('FT (Phase)')\n",
    "plt.show()\n",
    "\n",
    "# Numpy implementation.\n",
    "ft = np.fft.fft(func)\n",
    "\n",
    "plt.figure(figsize=(12, 8))\n",
    "plt.suptitle('Numpy implementation (FFT)')\n",
    "plt.subplot(1, 3, 1); plt.plot(L, func); plt.title('Function')\n",
    "plt.subplot(1, 3, 2); plt.plot(L, np.abs(ft)); plt.title('FT (Amplitude)')\n",
    "plt.subplot(1, 3, 3); plt.plot(L, np.angle(ft)); plt.title('FT (Phase)')\n",
    "plt.show()"
   ]
  },
  {
   "cell_type": "markdown",
   "metadata": {
    "deletable": false,
    "editable": false,
    "nbgrader": {
     "checksum": "74881dd33c8cdbd84c81c856ed204d38",
     "grade": false,
     "grade_id": "cell-d47f76dd5d23a43b",
     "locked": true,
     "schema_version": 1,
     "solution": false
    }
   },
   "source": [
    "**c)** Now implement a 2-dimensional version of Fourier transform for images, using the formula from the lecture. Compare your result with the output of `fft2`."
   ]
  },
  {
   "cell_type": "code",
   "execution_count": null,
   "metadata": {
    "deletable": false,
    "nbgrader": {
     "checksum": "ab535e41de083bb282e0ee6d1d9080e4",
     "grade": true,
     "grade_id": "cell-054ba109930f9f84",
     "locked": false,
     "points": 3,
     "schema_version": 1,
     "solution": true
    }
   },
   "outputs": [],
   "source": [
    "%matplotlib inline\n",
    "import numpy as np\n",
    "import matplotlib.pyplot as plt\n",
    "\n",
    "\n",
    "def fourier2d(img):\n",
    "    \"\"\"\n",
    "    Perform discrete 2D Fourier transform of a given image.\n",
    "    \"\"\"\n",
    "\n",
    "    ft = np.zeros(img.shape)\n",
    "\n",
    "    # YOUR CODE HERE\n",
    "\n",
    "    return ft\n",
    "\n",
    "\n",
    "# Now (visually) compare your results with np.fft.fft2\n",
    "img = plt.imread('images/dolly.png')\n",
    "\n",
    "# YOUR CODE HERE\n",
    "\n",
    "plt.show()"
   ]
  },
  {
   "cell_type": "markdown",
   "metadata": {
    "deletable": false,
    "editable": false,
    "nbgrader": {
     "checksum": "3a02b60fda66749a2a33d9fd87f3ce6b",
     "grade": false,
     "grade_id": "ft-conv",
     "locked": true,
     "schema_version": 1,
     "solution": false
    }
   },
   "source": [
    "## Exercise 3: Convolution theorem [7 points]"
   ]
  },
  {
   "cell_type": "markdown",
   "metadata": {
    "collapsed": true,
    "deletable": false,
    "editable": false,
    "nbgrader": {
     "checksum": "7953ee98871e3a5e6ab77b8616ec68bb",
     "grade": false,
     "grade_id": "ft-conv-q1",
     "locked": true,
     "schema_version": 1,
     "solution": false
    }
   },
   "source": [
    "**a)** What does the convolution theorem state and what are its practical consequences?"
   ]
  },
  {
   "cell_type": "markdown",
   "metadata": {
    "collapsed": true,
    "deletable": false,
    "nbgrader": {
     "checksum": "399c9337dde4ed3f6a83290ebc46873e",
     "grade": true,
     "grade_id": "ft-conv-a1",
     "locked": false,
     "points": 1,
     "schema_version": 1,
     "solution": true
    },
    "solution": true
   },
   "source": [
    "YOUR ANSWER HERE"
   ]
  },
  {
   "cell_type": "markdown",
   "metadata": {
    "collapsed": true,
    "deletable": false,
    "editable": false,
    "nbgrader": {
     "checksum": "303625636603e2cb9bb7568cf9d14f6d",
     "grade": false,
     "grade_id": "ft-conv-q2",
     "locked": true,
     "schema_version": 1,
     "solution": false
    }
   },
   "source": [
    "**b)**\n",
    "When introducing convolution, we have discussed different methods to deal with boundary pixels. From the perspective of Fourier analysis, what is the natural way to deal with this problem?"
   ]
  },
  {
   "cell_type": "markdown",
   "metadata": {
    "collapsed": true,
    "deletable": false,
    "nbgrader": {
     "checksum": "31af2d8a591a8ae7f383647081b82048",
     "grade": true,
     "grade_id": "ft-conv-a2",
     "locked": false,
     "points": 1,
     "schema_version": 1,
     "solution": true
    },
    "solution": true
   },
   "source": [
    "YOUR ANSWER HERE"
   ]
  },
  {
   "cell_type": "markdown",
   "metadata": {
    "collapsed": true,
    "deletable": false,
    "editable": false,
    "nbgrader": {
     "checksum": "648e5db45a4d849b135dd7d61cb09f5f",
     "grade": false,
     "grade_id": "ft-conv-q3",
     "locked": true,
     "schema_version": 1,
     "solution": false
    }
   },
   "source": [
    "**c)** What is the complexity for computing a convolution using the convolution theorem? Compare this with your complexity results from sheet 01, Assignment 1(c)."
   ]
  },
  {
   "cell_type": "markdown",
   "metadata": {
    "collapsed": true,
    "deletable": false,
    "nbgrader": {
     "checksum": "a10212624f0ebd25f06500028df643e2",
     "grade": true,
     "grade_id": "ft-conv-a3",
     "locked": false,
     "points": 1,
     "schema_version": 1,
     "solution": true
    },
    "solution": "shown"
   },
   "source": [
    "YOUR ANSWER HERE"
   ]
  },
  {
   "cell_type": "markdown",
   "metadata": {
    "collapsed": true,
    "deletable": false,
    "editable": false,
    "nbgrader": {
     "checksum": "4e5009e13354bbe28deafde2c5efd988",
     "grade": false,
     "grade_id": "ft-conv-q4",
     "locked": true,
     "schema_version": 1,
     "solution": false
    }
   },
   "source": [
    "**d)** Proof the convolution theorem."
   ]
  },
  {
   "cell_type": "markdown",
   "metadata": {
    "collapsed": true,
    "deletable": false,
    "nbgrader": {
     "checksum": "80a0c6468a6b4ac2b34a7f3f914e019d",
     "grade": true,
     "grade_id": "ft-conv-a4",
     "locked": false,
     "points": 4,
     "schema_version": 1,
     "solution": true
    },
    "solution": "shown"
   },
   "source": [
    "YOUR ANSWER HERE"
   ]
  },
  {
   "cell_type": "markdown",
   "metadata": {
    "deletable": false,
    "editable": false,
    "nbgrader": {
     "checksum": "bc6f4a7f7c76740177177a99ade8f63e",
     "grade": false,
     "grade_id": "cell-286986cc382edaf8",
     "locked": true,
     "schema_version": 1,
     "solution": false
    }
   },
   "source": [
    "## Exercise 4: Applying Fourier Transform [Bonus]\n",
    "\n",
    "If you solve this exercise you may leave out one of the other exercises.\n"
   ]
  },
  {
   "cell_type": "markdown",
   "metadata": {
    "deletable": false,
    "editable": false,
    "nbgrader": {
     "checksum": "ebbcd1f5b83f67d10ccfeab59c54f857",
     "grade": false,
     "grade_id": "cell-286986cc382edaf82",
     "locked": true,
     "schema_version": 1,
     "solution": false
    }
   },
   "source": [
    "**a)** In order to apply the Custom Structuring Element to our satelite image in Assignment 4 of Sheet 3 we had to rotate the image. We had to measure the rotation angle by hand. We can now do this automatically via Fourier Transform.\n",
    "\n",
    "1. Apply Fourier transform to the `img_gray`. The resulting amplitude should show the angle of the black lines.\n",
    "\n",
    "1. Try to automatically get the rotation angle from the Fourier space. There are different ways to achieve this.\n",
    "   Hints:\n",
    "   * You may threshold the amplitudes, to only keep “relevant” values. You can then compute the angle of the largest relevant value.\n",
    "   * Alternatively, you may apply methods you know from other lectures to get the main component and compute its angle.\n",
    "\n",
    "1. Rotate the image back to its originally intended orientation (`skimage.transform.rotate`)."
   ]
  },
  {
   "cell_type": "code",
   "execution_count": null,
   "metadata": {
    "deletable": false,
    "nbgrader": {
     "checksum": "77850c50bd0a72a95800edac21db6622",
     "grade": true,
     "grade_id": "cell-6f07e17666452929",
     "locked": false,
     "points": 0,
     "schema_version": 1,
     "solution": true
    }
   },
   "outputs": [],
   "source": [
    "%matplotlib inline\n",
    "import numpy as np\n",
    "from skimage import color\n",
    "from skimage.transform import hough_line\n",
    "from skimage.transform import rotate\n",
    "import matplotlib.pyplot as plt\n",
    "\n",
    "img = plt.imread('images/landsat_stack2.png')\n",
    "img_gray = color.rgb2gray(img)\n",
    "\n",
    "# YOUR CODE HERE\n",
    "\n",
    "plt.show()"
   ]
  },
  {
   "cell_type": "markdown",
   "metadata": {
    "deletable": false,
    "editable": false,
    "nbgrader": {
     "checksum": "37bfcfde594596ea057ba9bb37310454",
     "grade": false,
     "grade_id": "cell-1d177ce35f4eb5e9",
     "locked": true,
     "schema_version": 1,
     "solution": false
    }
   },
   "source": [
    "**b)** Can you think of other applications of Fourier Transform in Computer Vision?"
   ]
  },
  {
   "cell_type": "markdown",
   "metadata": {
    "deletable": false,
    "nbgrader": {
     "checksum": "3e94982a7271bb2b46012a84896da003",
     "grade": true,
     "grade_id": "cell-64e6c7b601c26f9c",
     "locked": false,
     "points": 0,
     "schema_version": 1,
     "solution": true
    }
   },
   "source": [
    "YOUR ANSWER HERE"
   ]
  }
 ],
 "metadata": {
  "kernelspec": {
   "display_name": "Python 3",
   "language": "python",
   "name": "python3"
  },
  "language_info": {
   "codemirror_mode": {
    "name": "ipython",
    "version": 3
   },
   "file_extension": ".py",
   "mimetype": "text/x-python",
   "name": "python",
   "nbconvert_exporter": "python",
   "pygments_lexer": "ipython3",
   "version": "3.6.6"
  },
  "toc": {
   "nav_menu": {},
   "number_sections": true,
   "sideBar": true,
   "skip_h1_title": false,
   "toc_cell": false,
   "toc_position": {},
   "toc_section_display": "block",
   "toc_window_display": false
  },
  "varInspector": {
   "cols": {
    "lenName": 16,
    "lenType": 16,
    "lenVar": 40
   },
   "kernels_config": {
    "python": {
     "delete_cmd_postfix": "",
     "delete_cmd_prefix": "del ",
     "library": "var_list.py",
     "varRefreshCmd": "print(var_dic_list())"
    },
    "r": {
     "delete_cmd_postfix": ") ",
     "delete_cmd_prefix": "rm(",
     "library": "var_list.r",
     "varRefreshCmd": "cat(var_dic_list()) "
    }
   },
   "types_to_exclude": [
    "module",
    "function",
    "builtin_function_or_method",
    "instance",
    "_Feature"
   ],
   "window_display": false
  },
  "widgets": {
   "state": {},
   "version": "1.1.2"
  }
 },
 "nbformat": 4,
 "nbformat_minor": 1
}
