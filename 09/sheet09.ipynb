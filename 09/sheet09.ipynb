{
 "cells": [
  {
   "cell_type": "markdown",
   "metadata": {
    "deletable": false,
    "editable": false,
    "nbgrader": {
     "checksum": "6427605306527e7054be04ae1c3460f6",
     "grade": false,
     "grade_id": "cell-e4443da6dac7fed7",
     "locked": true,
     "schema_version": 1,
     "solution": false
    }
   },
   "source": [
    "Osnabrück University - Computer Vision (Winter Term 2018/19) - Prof. Dr.-Ing. G. Heidemann, Ulf Krumnack, Axel Schaffland"
   ]
  },
  {
   "cell_type": "markdown",
   "metadata": {
    "deletable": false,
    "editable": false,
    "nbgrader": {
     "checksum": "a5d551a04ff9a038e46e978714cccd4c",
     "grade": false,
     "grade_id": "cell-a082749901a1b6c8",
     "locked": true,
     "schema_version": 1,
     "solution": false
    }
   },
   "source": [
    "# Exercise Sheet 09: Local Features I: Interest Points"
   ]
  },
  {
   "cell_type": "markdown",
   "metadata": {
    "deletable": false,
    "editable": false,
    "nbgrader": {
     "checksum": "b322a8c739a0829fdd98c29cb9f6ed28",
     "grade": false,
     "grade_id": "cell-ddb0ad0a633da50d",
     "locked": true,
     "schema_version": 1,
     "solution": false
    }
   },
   "source": [
    "## Introduction\n",
    "\n",
    "This week's sheet should be solved and handed in before the end of **Sunday, January 27, 2019**. If you need help (and Google and other resources were not enough), feel free to contact your groups' designated tutor or whomever of us you run into first. Please upload your results to your group's Stud.IP folder."
   ]
  },
  {
   "cell_type": "markdown",
   "metadata": {
    "deletable": false,
    "editable": false,
    "nbgrader": {
     "checksum": "fc93d8b565c53ce4ea7399455348b6ed",
     "grade": false,
     "grade_id": "cell-1294b5df62dc9899",
     "locked": true,
     "schema_version": 1,
     "solution": false
    }
   },
   "source": [
    "## Assignment 0: Math recap (Information Theory) [2 Bonus Points]\n",
    "\n",
    "This exercise is supposed to be very easy, and is voluntary. There will be a similar exercise on every sheet. It is intended to revise some basic mathematical notions that are assumed throughout this class and to allow you to check if you are comfortable with them. Usually you should have no problem to answer these questions offhand, but if you feel unsure, this is a good time to look them up again. You are always welcome to discuss questions with the tutors or in the practice session. Also, if you have a (math) topic you would like to recap, please let us know."
   ]
  },
  {
   "cell_type": "markdown",
   "metadata": {
    "deletable": false,
    "editable": false,
    "nbgrader": {
     "checksum": "72f326db05309600d448fc9fbb15fefc",
     "grade": false,
     "grade_id": "cell-dd4fc8740fa24cd4",
     "locked": true,
     "schema_version": 1,
     "solution": false
    }
   },
   "source": [
    "**a)** Explain the concept of *information content*. How is it computed?"
   ]
  },
  {
   "cell_type": "markdown",
   "metadata": {
    "collapsed": true,
    "deletable": false,
    "nbgrader": {
     "checksum": "2fe29e77b9ee47fe2e2cb291452374a4",
     "grade": true,
     "grade_id": "cell-d0a08e6b9df1fa49",
     "locked": false,
     "points": 0,
     "schema_version": 1,
     "solution": true
    },
    "solution": true
   },
   "source": [
    "YOUR ANSWER HERE"
   ]
  },
  {
   "cell_type": "markdown",
   "metadata": {
    "deletable": false,
    "editable": false,
    "nbgrader": {
     "checksum": "cec8d9924056329c4516ebcb6773a0dc",
     "grade": false,
     "grade_id": "cell-3f45913faacb5114",
     "locked": true,
     "schema_version": 1,
     "solution": false
    }
   },
   "source": [
    "**b)** What is *entropy*? How does it relate to information content?"
   ]
  },
  {
   "cell_type": "markdown",
   "metadata": {
    "collapsed": true,
    "deletable": false,
    "nbgrader": {
     "checksum": "56f4777cbc6351cc2f120d7cfe5c1fe5",
     "grade": true,
     "grade_id": "cell-786eb09d2039e702",
     "locked": false,
     "points": 0,
     "schema_version": 1,
     "solution": true
    },
    "solution": true
   },
   "source": [
    "YOUR ANSWER HERE"
   ]
  },
  {
   "cell_type": "markdown",
   "metadata": {
    "deletable": false,
    "editable": false,
    "nbgrader": {
     "checksum": "7133cf951e237b48b437e3f6ded5822a",
     "grade": false,
     "grade_id": "cell-acdf51da975ebbb6",
     "locked": true,
     "schema_version": 1,
     "solution": false
    }
   },
   "source": [
    "**c)** What is *mutual information*?"
   ]
  },
  {
   "cell_type": "markdown",
   "metadata": {
    "collapsed": true,
    "deletable": false,
    "nbgrader": {
     "checksum": "47c31d66236f1fd032c82d4adb773e9d",
     "grade": true,
     "grade_id": "cell-93b8616a81136037",
     "locked": false,
     "points": 0,
     "schema_version": 1,
     "solution": true
    },
    "solution": true
   },
   "source": [
    "YOUR ANSWER HERE"
   ]
  },
  {
   "cell_type": "markdown",
   "metadata": {
    "deletable": false,
    "editable": false,
    "nbgrader": {
     "checksum": "2507732d283d3fc679df5187d68b69b9",
     "grade": false,
     "grade_id": "cell-968c945b0dc138ac",
     "locked": true,
     "schema_version": 1,
     "solution": false
    }
   },
   "source": [
    "## Exercise 1: Local features and interest points [4 points]"
   ]
  },
  {
   "cell_type": "markdown",
   "metadata": {
    "deletable": false,
    "editable": false,
    "nbgrader": {
     "checksum": "8cd819b679d63088058aa38b48fd3f10",
     "grade": false,
     "grade_id": "cell-54385603796cbdc5",
     "locked": true,
     "schema_version": 1,
     "solution": false
    }
   },
   "source": [
    "**a)** Explain in your own words: What are *local features*? How they are used?"
   ]
  },
  {
   "cell_type": "markdown",
   "metadata": {
    "deletable": false,
    "nbgrader": {
     "checksum": "fcccec95a733b8592ef282312430151d",
     "grade": true,
     "grade_id": "cell-9ab13a0e8484d6b9",
     "locked": false,
     "points": 2,
     "schema_version": 1,
     "solution": true
    }
   },
   "source": [
    "YOUR ANSWER HERE"
   ]
  },
  {
   "cell_type": "markdown",
   "metadata": {
    "deletable": false,
    "editable": false,
    "nbgrader": {
     "checksum": "621e3785e27c2a56e40841056f9617a7",
     "grade": false,
     "grade_id": "cell-9a58a036bbdcba63",
     "locked": true,
     "schema_version": 1,
     "solution": false
    },
    "solution": "hidden"
   },
   "source": [
    "**b)** What are *interest points* and what are they used for? What properties are desirable?"
   ]
  },
  {
   "cell_type": "markdown",
   "metadata": {
    "collapsed": true,
    "deletable": false,
    "nbgrader": {
     "checksum": "f6d83145851e94b3985ba286eb6a0540",
     "grade": true,
     "grade_id": "cell-b964929c6f2d5419",
     "locked": false,
     "points": 2,
     "schema_version": 1,
     "solution": true
    },
    "solution": "hidden"
   },
   "source": [
    "YOUR ANSWER HERE"
   ]
  },
  {
   "cell_type": "markdown",
   "metadata": {
    "deletable": false,
    "editable": false,
    "nbgrader": {
     "checksum": "897486156a3ead89579bf8d859fabc8d",
     "grade": false,
     "grade_id": "cell-bffcd57e4ade7360x",
     "locked": true,
     "schema_version": 1,
     "solution": false
    }
   },
   "source": [
    "## Exercise 2: Computing interest points [6 points]\n"
   ]
  },
  {
   "cell_type": "markdown",
   "metadata": {
    "deletable": false,
    "editable": false,
    "nbgrader": {
     "checksum": "080280cd532a1a4c48ad75595af6b302",
     "grade": false,
     "grade_id": "cell-moravec-q",
     "locked": true,
     "schema_version": 1,
     "solution": false
    }
   },
   "source": [
    "**a)** Explain in your own words the idea of the Moravec IP operator. What are its properties? Implement this IP operator and apply it to the image `lighthouse.png`. Try different window sizes and threshold values."
   ]
  },
  {
   "cell_type": "markdown",
   "metadata": {
    "deletable": false,
    "nbgrader": {
     "checksum": "6f71a7dbedc335281ea82e554074fcdd",
     "grade": true,
     "grade_id": "cell-e5a892a0e5b57489",
     "locked": false,
     "points": 1,
     "schema_version": 1,
     "solution": true
    }
   },
   "source": [
    "YOUR ANSWER HERE"
   ]
  },
  {
   "cell_type": "code",
   "execution_count": null,
   "metadata": {
    "deletable": false,
    "nbgrader": {
     "checksum": "f15c02a628c70f49eabe74a39939083e",
     "grade": true,
     "grade_id": "cell-moravec-a",
     "locked": false,
     "points": 2,
     "schema_version": 1,
     "solution": true
    }
   },
   "outputs": [],
   "source": [
    "%matplotlib inline\n",
    "\n",
    "import numpy as np\n",
    "import matplotlib.pyplot as plt\n",
    "\n",
    "img = plt.imread('images/lighthouse.png')[...,0]\n",
    "\n",
    "window_size = 3\n",
    "threshold = .2\n",
    "\n",
    "# YOUR CODE HERE"
   ]
  },
  {
   "cell_type": "markdown",
   "metadata": {
    "deletable": false,
    "editable": false,
    "nbgrader": {
     "checksum": "2c59a8fc69fc6f8979b64dd6de21f197",
     "grade": false,
     "grade_id": "cell-harris-q",
     "locked": true,
     "schema_version": 1,
     "solution": false
    }
   },
   "source": [
    "**b)** How does the Harris corner detector work and in what sense does it improve the Moravec IP operator. Implement the Harris corner detector and apply it to `lighthouse.png`. Again, try different \"window sizes\" (values for $\\sigma$)."
   ]
  },
  {
   "cell_type": "markdown",
   "metadata": {
    "deletable": false,
    "nbgrader": {
     "checksum": "caeee663722a27d0636dde08ede71424",
     "grade": true,
     "grade_id": "cell-d51a9747dd39f80b",
     "locked": false,
     "points": 1,
     "schema_version": 1,
     "solution": true
    }
   },
   "source": [
    "YOUR ANSWER HERE"
   ]
  },
  {
   "cell_type": "code",
   "execution_count": null,
   "metadata": {
    "deletable": false,
    "nbgrader": {
     "checksum": "04075d94903da12dfb158f1a281715ce",
     "grade": true,
     "grade_id": "cell-harris-a",
     "locked": false,
     "points": 2,
     "schema_version": 1,
     "solution": true
    }
   },
   "outputs": [],
   "source": [
    "%matplotlib inline\n",
    "\n",
    "import numpy as np\n",
    "import matplotlib.pyplot as plt\n",
    "import scipy.ndimage as nd\n",
    "\n",
    "k = .04\n",
    "window_size = 5\n",
    "\n",
    "img = plt.imread('images/lighthouse.png')[...,0]\n",
    "\n",
    "# YOUR CODE HERE"
   ]
  },
  {
   "cell_type": "markdown",
   "metadata": {
    "deletable": false,
    "editable": false,
    "nbgrader": {
     "checksum": "a645a6bcfece077a3ca7b2192b50983a",
     "grade": false,
     "grade_id": "cell-cb52ad31d8749cdd",
     "locked": true,
     "schema_version": 1,
     "solution": false
    }
   },
   "source": [
    "## Exercise 3: SIFT keypoints [10 points]\n",
    "\n",
    "Implement the SIFT keypoint detection. Use the image `lighthouse.png` for testing.\n",
    "\n",
    "*Hint:* For this exercise it is really helpful to take a look at:\n",
    "* [[Lowe04]](http://www.cs.ubc.ca/~lowe/papers/ijcv04.pdf) David G. Lowe: Distinctive Image Features from \n",
    "Scale-Invariant Keypoints. IJCV, 2004."
   ]
  },
  {
   "cell_type": "markdown",
   "metadata": {
    "deletable": false,
    "editable": false,
    "nbgrader": {
     "checksum": "c960eb80f1f774bb79d5e6ab57251ec7",
     "grade": false,
     "grade_id": "cell-b75cbedfa1158d2c",
     "locked": true,
     "schema_version": 1,
     "solution": false
    }
   },
   "source": [
    "**a)** Calculate the scale space for an image $I$ (no built-ins allowed). Calculate 4 octaves with 5 scales each. For the calculation of one octave proceed as follows:\n",
    "Smooth the image with $\\sigma_0 = 0.5$ with a kernel size of $\\operatorname{ceil}(4\\cdot\\sigma_0)$. This is the first image of the octave. For the calculation of the other scale images ($i = 1,\\ldots,4$), the value of $\\sigma$ is calculated as $\\sigma_i=k^i\\cdot\\sigma_0$ with $k = 2$ and kernel size $\\operatorname{ceil}(4\\cdot\\sigma_i)$."
   ]
  },
  {
   "cell_type": "code",
   "execution_count": null,
   "metadata": {
    "deletable": false,
    "nbgrader": {
     "checksum": "24d8a268992da654f03276b6e085cf2e",
     "grade": true,
     "grade_id": "cell-039475f1307f451c",
     "locked": false,
     "points": 2,
     "schema_version": 1,
     "solution": true
    }
   },
   "outputs": [],
   "source": [
    "import numpy as np\n",
    "import matplotlib.pyplot as plt\n",
    "\n",
    "image = plt.imread('../images/lighthouse.png')[...,0]\n",
    "\n",
    "# YOUR CODE HERE"
   ]
  },
  {
   "cell_type": "markdown",
   "metadata": {
    "deletable": false,
    "editable": false,
    "nbgrader": {
     "checksum": "df380c0d7a495e92bf63d7a401ccd47c",
     "grade": false,
     "grade_id": "cell-2592bd14f37b9e93",
     "locked": true,
     "schema_version": 1,
     "solution": false
    }
   },
   "source": [
    "**b)** Calculate the Difference of Gaussian images from the scale space for each octave\n",
    "($DoG_{i−1} = G(x,y,\\sigma_i) − G(x,y,σ_{i−1})$), where $G(x,y,\\sigma_i)$ is the Gaussian smoothed image with kernel $\\sigma_i$. The result will be 4 DoG images per octave."
   ]
  },
  {
   "cell_type": "code",
   "execution_count": null,
   "metadata": {
    "deletable": false,
    "nbgrader": {
     "checksum": "198e2f66215a95364fd22237080bf248",
     "grade": true,
     "grade_id": "cell-781b08e8ed05b4f9",
     "locked": false,
     "points": 2,
     "schema_version": 1,
     "solution": true
    }
   },
   "outputs": [],
   "source": [
    "# YOUR CODE HERE"
   ]
  },
  {
   "cell_type": "markdown",
   "metadata": {
    "deletable": false,
    "editable": false,
    "nbgrader": {
     "checksum": "83d334bcda277ad8bd4f0bd851a42489",
     "grade": false,
     "grade_id": "cell-ddafda80e901da7d",
     "locked": true,
     "schema_version": 1,
     "solution": false
    }
   },
   "source": [
    "**c)** Detect extrema in the DoG images. Check every pixel in the DoG images and compare it to all its neighbors (surrounding, as well as those neighbors in the adjacent DoG images). This is a total of 26 comparisons. If the pixel is greater than or less than all its neighbors, it is a possible keypoint. This check is not performed for the top- and lowermost DoG images within each octave, because there are not enough neighbors."
   ]
  },
  {
   "cell_type": "code",
   "execution_count": null,
   "metadata": {
    "deletable": false,
    "nbgrader": {
     "checksum": "2d288593b29a8a5a8425ddec01b90cf7",
     "grade": true,
     "grade_id": "cell-16486161cc3f8234",
     "locked": false,
     "points": 2,
     "schema_version": 1,
     "solution": true
    }
   },
   "outputs": [],
   "source": [
    "# YOUR CODE HERE"
   ]
  },
  {
   "cell_type": "markdown",
   "metadata": {
    "deletable": false,
    "editable": false,
    "nbgrader": {
     "checksum": "cc48e092163510d9e5638f92be3cd2bc",
     "grade": false,
     "grade_id": "cell-7b4cc0271a68707f",
     "locked": true,
     "schema_version": 1,
     "solution": false
    }
   },
   "source": [
    "**d)** Actually, we would have to calculate subpixel locations now, but we will omit that part. Instead we will remove keypoints that lie on edges. This procedure is similar to that of the Harris corner detector, however, in the following the Hessian matrix is used. Calculate the Hessian matrix of the DoG images on which (possible) keypoints were found. \n",
    "If $\\operatorname{Tr}(H)^2/\\operatorname{det}(H) > (r + 1)^2/r$, with $\\operatorname{Tr}(H) = D_{xx} + D_{yy}$ and $\\operatorname{det}(H) = D_{xx} D_{yy} − D_{xy}^2$ then the keypoint is rejected. Find a suitable value for $r$."
   ]
  },
  {
   "cell_type": "code",
   "execution_count": null,
   "metadata": {
    "deletable": false,
    "nbgrader": {
     "checksum": "869b14bf7e0936de0e3655369237a2d4",
     "grade": true,
     "grade_id": "cell-346f168b4e2a5622",
     "locked": false,
     "points": 2,
     "schema_version": 1,
     "solution": true
    }
   },
   "outputs": [],
   "source": [
    "# YOUR CODE HERE"
   ]
  },
  {
   "cell_type": "markdown",
   "metadata": {
    "deletable": false,
    "editable": false,
    "nbgrader": {
     "checksum": "00d057a23304ac114304de1c43ee119b",
     "grade": false,
     "grade_id": "cell-59d0d1708a4d80e3",
     "locked": true,
     "schema_version": 1,
     "solution": false
    }
   },
   "source": [
    "**e)** Keypoints are also rejected if their magnitude in the DoG image is less than a threshold\n",
    "(find a good threshold yourself)."
   ]
  },
  {
   "cell_type": "code",
   "execution_count": null,
   "metadata": {
    "deletable": false,
    "nbgrader": {
     "checksum": "c3b5573cd11fc699f32f1e1568d6403e",
     "grade": true,
     "grade_id": "cell-4bc3fe073e85f927",
     "locked": false,
     "points": 1,
     "schema_version": 1,
     "solution": true
    }
   },
   "outputs": [],
   "source": [
    "# YOUR CODE HERE"
   ]
  },
  {
   "cell_type": "markdown",
   "metadata": {
    "deletable": false,
    "editable": false,
    "nbgrader": {
     "checksum": "5bf4cedc0eccfd536dbc372d5f210dd3",
     "grade": false,
     "grade_id": "cell-2ae5ed9c95b8e061",
     "locked": true,
     "schema_version": 1,
     "solution": false
    }
   },
   "source": [
    "**f)** Display the remaining keypoints on the image. Indicate the scale of the IP in your plot."
   ]
  },
  {
   "cell_type": "code",
   "execution_count": null,
   "metadata": {
    "deletable": false,
    "nbgrader": {
     "checksum": "1fefac4b6b1afcd69cf09b7e2adacb30",
     "grade": true,
     "grade_id": "cell-035a7e51919363ed",
     "locked": false,
     "points": 1,
     "schema_version": 1,
     "solution": true
    }
   },
   "outputs": [],
   "source": [
    "# YOUR CODE HERE"
   ]
  }
 ],
 "metadata": {
  "kernelspec": {
   "display_name": "Python 3",
   "language": "python",
   "name": "python3"
  },
  "language_info": {
   "codemirror_mode": {
    "name": "ipython",
    "version": 3
   },
   "file_extension": ".py",
   "mimetype": "text/x-python",
   "name": "python",
   "nbconvert_exporter": "python",
   "pygments_lexer": "ipython3",
   "version": "3.7.2"
  },
  "toc": {
   "nav_menu": {},
   "number_sections": true,
   "sideBar": true,
   "skip_h1_title": false,
   "toc_cell": false,
   "toc_position": {},
   "toc_section_display": "block",
   "toc_window_display": false
  },
  "varInspector": {
   "cols": {
    "lenName": 16,
    "lenType": 16,
    "lenVar": 40
   },
   "kernels_config": {
    "python": {
     "delete_cmd_postfix": "",
     "delete_cmd_prefix": "del ",
     "library": "var_list.py",
     "varRefreshCmd": "print(var_dic_list())"
    },
    "r": {
     "delete_cmd_postfix": ") ",
     "delete_cmd_prefix": "rm(",
     "library": "var_list.r",
     "varRefreshCmd": "cat(var_dic_list()) "
    }
   },
   "types_to_exclude": [
    "module",
    "function",
    "builtin_function_or_method",
    "instance",
    "_Feature"
   ],
   "window_display": false
  },
  "widgets": {
   "state": {},
   "version": "1.1.2"
  }
 },
 "nbformat": 4,
 "nbformat_minor": 1
}
